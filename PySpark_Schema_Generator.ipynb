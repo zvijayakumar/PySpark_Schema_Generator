{
 "cells": [
  {
   "cell_type": "code",
   "execution_count": 6,
   "id": "a19905ab",
   "metadata": {},
   "outputs": [],
   "source": [
    "# Spark Schema Generator from PostgreSQL Table Schema"
   ]
  },
  {
   "cell_type": "code",
   "execution_count": null,
   "id": "aa33ef97",
   "metadata": {},
   "outputs": [],
   "source": [
    "from pyspark.sql.types import StructType, StructField, StringType, IntegerType, LongType, FloatType, BooleanType, TimestampType, DateType, DecimalType, ArrayType, MapType, BinaryType\n",
    "\n",
    "import psycopg2\n",
    "\n",
    "# Connect to the PostgreSQL database\n",
    "conn = psycopg2.connect(host=\"localhost\", database=\"dev_psg\", user=\"admin\", password=\"admin\")\n",
    "\n",
    "# Create a cursor object\n",
    "cur = conn.cursor()\n",
    "\n",
    "# Define the PostgreSQL schema name\n",
    "schema_name = \"public\"\n",
    "\n",
    "# Get the list of tables in the specified schema\n",
    "cur.execute(f\"SELECT table_name FROM information_schema.tables WHERE table_schema='{schema_name}'\")\n",
    "tables = cur.fetchall()"
   ]
  },
  {
   "cell_type": "code",
   "execution_count": 4,
   "id": "12825d72",
   "metadata": {},
   "outputs": [],
   "source": [
    "\n",
    "# Define a dictionary to map PostgreSQL data types to Spark data types\n",
    "data_type_mapping = {\n",
    "    \"ARRAY\": ArrayType(StringType()), # assuming array contains string elements\n",
    "    \"bigint\": LongType(),\n",
    "    \"boolean\": BooleanType(),\n",
    "    \"bytea\": BinaryType(),\n",
    "    \"character\": StringType(),\n",
    "    \"character varying\": StringType(),\n",
    "    \"date\": DateType(),\n",
    "    \"double precision\": FloatType(),\n",
    "    \"integer\": IntegerType(),\n",
    "    \"json\": StringType(),\n",
    "    \"name\": StringType(),\n",
    "    \"numeric\": DecimalType(),\n",
    "    \"oid\": LongType(),\n",
    "    \"smallint\": IntegerType(),\n",
    "    \"text\": StringType(),\n",
    "    \"timestamp with time zone\": TimestampType(),\n",
    "    \"timestamp without time zone\": TimestampType()\n",
    "    #Add more data type conversion\n",
    "}"
   ]
  },
  {
   "cell_type": "code",
   "execution_count": null,
   "id": "02c77cac",
   "metadata": {},
   "outputs": [],
   "source": [
    "\n",
    "# Define a function to get the StructType schema for a PostgreSQL table\n",
    "def get_table_schema(table_name):\n",
    "    # Get the table schema from PostgreSQL\n",
    "    cur.execute(f\"SELECT column_name, data_type, is_nullable FROM information_schema.columns WHERE table_name='{table_name}'\")\n",
    "    rows = cur.fetchall()\n",
    "\n",
    "    # Create a list of StructFields from the table schema\n",
    "    fields = []\n",
    "    for row in rows:\n",
    "        field_name = row[0]\n",
    "        field_type = row[1]\n",
    "        is_nullable = row[2]\n",
    "        spark_data_type = data_type_mapping.get(field_type, StringType())\n",
    "        \n",
    "        # Handle special cases\n",
    "        if field_type == \"numeric\":\n",
    "            # Get the precision and scale from the PostgreSQL column definition\n",
    "            cur.execute(f\"SELECT numeric_precision, numeric_scale FROM information_schema.columns WHERE table_name='{table_name}' AND column_name='{field_name}'\")\n",
    "            precision, scale = cur.fetchone()\n",
    "            # Create a DecimalType with the specified precision and scale\n",
    "            spark_data_type = DecimalType(precision, scale)\n",
    "        elif field_type.startswith(\"array\"):\n",
    "            # Get the element data type from the PostgreSQL column definition\n",
    "            element_type = field_type[6:-1]\n",
    "            element_spark_data_type = data_type_mapping.get(element_type, StringType())\n",
    "            # Create an ArrayType with the element data type\n",
    "            spark_data_type = ArrayType(element_spark_data_type)\n",
    "\n",
    "        fields.append(StructField(field_name, spark_data_type, is_nullable == 'NO'))\n",
    "\n",
    "    # Create a StructType schema from the list of StructFields\n",
    "    return StructType(fields)\n",
    "\n",
    "# Create a dictionary to store the table schemas for each table\n",
    "schemas = {}\n",
    "for table in tables:\n",
    "    table_name = table[0]\n",
    "    schemas[table_name] = get_table_schema(table_name)\n",
    "\n",
    "# Print the schemas\n",
    "for table_name, schema in schemas.items():\n",
    "    print(f\"Schema for {table_name}:\")\n",
    "    print(schema)\n",
    "    print()"
   ]
  },
  {
   "attachments": {},
   "cell_type": "markdown",
   "id": "40de8d80",
   "metadata": {},
   "source": [
    "#Sample Output for the Schema and tables\n",
    "\n",
    "Schema for _airbyte_raw_fd_business_hours:\n",
    "StructType(List(StructField(_airbyte_ab_id,StringType,true),StructField(_airbyte_data,StringType,false),StructField(_airbyte_emitted_at,TimestampType,false)))\n",
    "\n",
    "Schema for _airbyte_raw_fd_canned_response_folders:\n",
    "StructType(List(StructField(_airbyte_ab_id,StringType,true),StructField(_airbyte_data,StringType,false),StructField(_airbyte_emitted_at,TimestampType,false)))\n",
    "\n",
    "Schema for _airbyte_raw_fd_canned_responses:\n",
    "StructType(List(StructField(_airbyte_ab_id,StringType,true),StructField(_airbyte_data,StringType,false),StructField(_airbyte_emitted_at,TimestampType,false)))\n",
    "\n",
    "Schema for _airbyte_raw_fd_companies:\n",
    "StructType(List(StructField(_airbyte_ab_id,StringType,true),StructField(_airbyte_data,StringType,false),StructField(_airbyte_emitted_at,TimestampType,false)))\n",
    "\n",
    "Schema for _airbyte_raw_fd_tickets:\n",
    "StructType(List(StructField(_airbyte_ab_id,StringType,true),StructField(_airbyte_data,StringType,false),StructField(_airbyte_emitted_at,TimestampType,false)))\n",
    "\n",
    "Schema for fd_sla_policies_esca__ion_resolution_level2:\n",
    "StructType(List(StructField(_airbyte_resolution_hashid,StringType,false),StructField(agent_ids,LongType,false),StructField(escalation_time,LongType,false),StructField(_airbyte_ab_id,StringType,false),StructField(_airbyte_emitted_at,TimestampType,false),StructField(_airbyte_normalized_at,TimestampType,false),StructField(_airbyte_level2_hashid,StringType,false)))\n",
    "\n",
    "Schema for _airbyte_tmp_bts_fd_agents:\n",
    "StructType(List(StructField(_airbyte_ab_id,StringType,true),StructField(_airbyte_data,StringType,false),StructField(_airbyte_emitted_at,TimestampType,false)))\n"
   ]
  }
 ],
 "metadata": {
  "kernelspec": {
   "display_name": "Python 3",
   "language": "python",
   "name": "python3"
  },
  "language_info": {
   "codemirror_mode": {
    "name": "ipython",
    "version": 3
   },
   "file_extension": ".py",
   "mimetype": "text/x-python",
   "name": "python",
   "nbconvert_exporter": "python",
   "pygments_lexer": "ipython3",
   "version": "3.11.0"
  },
  "vscode": {
   "interpreter": {
    "hash": "c261aea317cc0286b3b3261fbba9abdec21eaa57589985bb7a274bf54d6cc0a7"
   }
  }
 },
 "nbformat": 4,
 "nbformat_minor": 5
}
